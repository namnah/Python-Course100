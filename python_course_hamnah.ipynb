{
  "nbformat": 4,
  "nbformat_minor": 0,
  "metadata": {
    "colab": {
      "provenance": []
    },
    "kernelspec": {
      "name": "python3",
      "display_name": "Python 3"
    },
    "language_info": {
      "name": "python"
    }
  },
  "cells": [
    {
      "cell_type": "markdown",
      "source": [
        "This is Hamnahs python tasks file"
      ],
      "metadata": {
        "id": "jbmhiEOnWF14"
      }
    },
    {
      "cell_type": "markdown",
      "source": [
        "Task 1 27th December,2024"
      ],
      "metadata": {
        "id": "0VvJZdC1XMiW"
      }
    },
    {
      "cell_type": "code",
      "source": [
        "print(\"Hello, everyone! I am learning python\")"
      ],
      "metadata": {
        "colab": {
          "base_uri": "https://localhost:8080/"
        },
        "id": "swhZWn6Kk3w5",
        "outputId": "9ce85498-f7b4-4a46-d20e-ce0a1346eb12"
      },
      "execution_count": null,
      "outputs": [
        {
          "output_type": "stream",
          "name": "stdout",
          "text": [
            "Hello, everyone! I am learning python\n"
          ]
        }
      ]
    },
    {
      "cell_type": "markdown",
      "source": [
        "Task 2 27th December,2024"
      ],
      "metadata": {
        "id": "zluu0ncqLkUz"
      }
    },
    {
      "cell_type": "code",
      "source": [
        "_1='Hamnah'\n",
        "_2='11'\n",
        "_3='Flamingo'\n",
        "\n",
        "print(_1)\n",
        "print(_2)\n",
        "print(_3)"
      ],
      "metadata": {
        "colab": {
          "base_uri": "https://localhost:8080/"
        },
        "id": "FbFa2RsSM-XJ",
        "outputId": "f41856b8-7665-4e9a-fd35-00334ab3ef4c"
      },
      "execution_count": null,
      "outputs": [
        {
          "output_type": "stream",
          "name": "stdout",
          "text": [
            "Hamnah\n",
            "11\n",
            "Flamingo\n"
          ]
        }
      ]
    },
    {
      "cell_type": "markdown",
      "source": [
        "Task 28 December ,2024"
      ],
      "metadata": {
        "id": "WXUULgL4UuyY"
      }
    },
    {
      "cell_type": "code",
      "source": [
        "name = 'Nelson Mandela'\n",
        "\n",
        "print(name,'once said\"It always seems impossible until its done\" ')"
      ],
      "metadata": {
        "colab": {
          "base_uri": "https://localhost:8080/"
        },
        "id": "jsh_pY_EU_xB",
        "outputId": "d8b7d0f6-312d-4ee4-c667-c26a6eada11a"
      },
      "execution_count": null,
      "outputs": [
        {
          "output_type": "stream",
          "name": "stdout",
          "text": [
            "Nelson Mandela once said\"It always seems impossible until its done\" \n"
          ]
        }
      ]
    },
    {
      "cell_type": "markdown",
      "source": [
        "Task1   29 December ,2024"
      ],
      "metadata": {
        "id": "NKaPilyjVijP"
      }
    },
    {
      "cell_type": "code",
      "source": [
        "Favorite_Movie= \"Harry Potter\"\n",
        "Birth_year=2013\n",
        "Price_of_snack= 256\n",
        "print(\"Favourite Movie is \" +str(Favorite_Movie))\n",
        "print(\"fav moive'Favorite_Movie'\")\n",
        "print(\"My birth year is \"+str(Birth_year))\n",
        "print(\"My favourite Snack cost is \"+str(Price_of_snack))"
      ],
      "metadata": {
        "colab": {
          "base_uri": "https://localhost:8080/"
        },
        "id": "NzYr0ER8WXer",
        "outputId": "41b19a04-a1d0-4e32-f232-5cf51738c7d8"
      },
      "execution_count": null,
      "outputs": [
        {
          "output_type": "stream",
          "name": "stdout",
          "text": [
            "Favourite Movie is Harry Potter\n",
            "fav moive'Favorite_Movie'\n",
            "My birth year is 2013\n",
            "My favourite Snack cost is 256\n"
          ]
        }
      ]
    },
    {
      "cell_type": "markdown",
      "source": [
        "Task 2 29 December,2024"
      ],
      "metadata": {
        "id": "Tv9WGrvhhkXL"
      }
    },
    {
      "cell_type": "code",
      "source": [
        "hobby = 'diomand painting'\n",
        "\n",
        "print(\"My favourite hobby is \"+str(hobby))"
      ],
      "metadata": {
        "colab": {
          "base_uri": "https://localhost:8080/"
        },
        "id": "AEFO8NKpiHtn",
        "outputId": "faa4ede4-9cd6-4ce5-8f59-f0d670ce1627"
      },
      "execution_count": null,
      "outputs": [
        {
          "output_type": "stream",
          "name": "stdout",
          "text": [
            "My favourite hobby is diomand painting\n"
          ]
        }
      ]
    },
    {
      "cell_type": "markdown",
      "source": [
        "extra challenge 29 December,2024"
      ],
      "metadata": {
        "id": "9RPOfNXsjZUt"
      }
    },
    {
      "cell_type": "code",
      "source": [
        "a = 11\n",
        "b = 6\n",
        "c = a + b\n",
        "\n",
        "print(a)\n",
        "print(b)\n",
        "print(c)"
      ],
      "metadata": {
        "colab": {
          "base_uri": "https://localhost:8080/"
        },
        "id": "tm6fTYimjoFe",
        "outputId": "d1b649b4-6388-42da-cf8d-d8c60377ae4c"
      },
      "execution_count": null,
      "outputs": [
        {
          "output_type": "stream",
          "name": "stdout",
          "text": [
            "11\n",
            "6\n",
            "17\n"
          ]
        }
      ]
    },
    {
      "cell_type": "markdown",
      "source": [
        "Task 1  .  31 December,2024"
      ],
      "metadata": {
        "id": "IxS_4Hu8oHUc"
      }
    },
    {
      "cell_type": "code",
      "source": [
        "names=['Isbah','Shezine','Khadija','Ayesha']\n",
        "for items in names:\n",
        "  print(items)\n",
        "\n"
      ],
      "metadata": {
        "colab": {
          "base_uri": "https://localhost:8080/"
        },
        "id": "zwCJ3hvczO7_",
        "outputId": "32c32012-5668-4ba7-f434-4d27d54fe533"
      },
      "execution_count": null,
      "outputs": [
        {
          "output_type": "stream",
          "name": "stdout",
          "text": [
            "Isbah\n",
            "Shezine\n",
            "Khadija\n",
            "Ayesha\n"
          ]
        }
      ]
    },
    {
      "cell_type": "markdown",
      "source": [
        "Task 2 31 December,2024"
      ],
      "metadata": {
        "id": "f78XluuZ1Urh"
      }
    },
    {
      "cell_type": "code",
      "source": [
        "names=['Isbah','Shezine','Khadija','Ayesha']\n",
        "for items in names:\n",
        "  print(\"Welcome to my home \" +str(items))"
      ],
      "metadata": {
        "colab": {
          "base_uri": "https://localhost:8080/"
        },
        "id": "gawhCDpb1qrf",
        "outputId": "94f8fdf7-dc06-49ef-9e22-e772db7ec99f"
      },
      "execution_count": null,
      "outputs": [
        {
          "output_type": "stream",
          "name": "stdout",
          "text": [
            "Welcome to my home Isbah\n",
            "Welcome to my home Shezine\n",
            "Welcome to my home Khadija\n",
            "Welcome to my home Ayesha\n"
          ]
        }
      ]
    },
    {
      "cell_type": "markdown",
      "source": [
        "Task 3 31 December,2024"
      ],
      "metadata": {
        "id": "uGJChUrd2sx5"
      }
    },
    {
      "cell_type": "code",
      "source": [
        "vehicles = [' Car',' Bike']\n",
        "for items in vehicles:\n",
        "  print(\"I would like to own a\" +str(items))"
      ],
      "metadata": {
        "colab": {
          "base_uri": "https://localhost:8080/"
        },
        "id": "dIwiGWU13XjI",
        "outputId": "3f6bcdd0-4bd9-413e-901e-5845673d48e1"
      },
      "execution_count": null,
      "outputs": [
        {
          "output_type": "stream",
          "name": "stdout",
          "text": [
            "I would like to own a Car\n",
            "I would like to own a Bike\n"
          ]
        }
      ]
    },
    {
      "cell_type": "markdown",
      "source": [
        "Task 4 31 December,2024"
      ],
      "metadata": {
        "id": "bwjV_c9e6JrF"
      }
    },
    {
      "cell_type": "code",
      "source": [
        "guests = [' Grandma', ' meternal uncle',' meternal aunt']\n",
        "for items in guests:\n",
        "  print(\"I invite you to a dinner on 16 January, 2025\" +str(items))"
      ],
      "metadata": {
        "colab": {
          "base_uri": "https://localhost:8080/"
        },
        "id": "DLa_UuaY6Q47",
        "outputId": "ba3ba512-738f-403b-cdf5-a39e00ecfaad"
      },
      "execution_count": null,
      "outputs": [
        {
          "output_type": "stream",
          "name": "stdout",
          "text": [
            "I invite you to a dinner on 16 January, 2025 Grandma\n",
            "I invite you to a dinner on 16 January, 2025 meternal uncle\n",
            "I invite you to a dinner on 16 January, 2025 meternal aunt\n"
          ]
        }
      ]
    },
    {
      "cell_type": "markdown",
      "source": [
        "Task 1 3 January,2025"
      ],
      "metadata": {
        "id": "dhjhHGzn7xwq"
      }
    },
    {
      "cell_type": "code",
      "source": [
        "alein_colour= 'blue'\n",
        "if alein_colour==\"blue\":\n",
        "  print('you have earned 5 points')"
      ],
      "metadata": {
        "colab": {
          "base_uri": "https://localhost:8080/"
        },
        "id": "2crTOBW-75zJ",
        "outputId": "e0066de6-9179-4270-a95d-43d5fb262642"
      },
      "execution_count": null,
      "outputs": [
        {
          "output_type": "stream",
          "name": "stdout",
          "text": [
            "you have earned 5 points\n"
          ]
        }
      ]
    },
    {
      "cell_type": "markdown",
      "source": [
        "Task 2 3 January ,2025"
      ],
      "metadata": {
        "id": "jnQ1Aq6679ik"
      }
    },
    {
      "cell_type": "code",
      "source": [
        "alein_colour='blue'\n",
        "if alein_colour==\"green\":\n",
        "  print('you have earned 2 points')\n",
        "else:\n",
        "  print('you have earned 10 points')"
      ],
      "metadata": {
        "colab": {
          "base_uri": "https://localhost:8080/"
        },
        "id": "vQPvMOg68Kcc",
        "outputId": "4b8ba6cb-4b47-4a4c-9eb2-57719d60abea"
      },
      "execution_count": null,
      "outputs": [
        {
          "output_type": "stream",
          "name": "stdout",
          "text": [
            "you have earned 10 points\n"
          ]
        }
      ]
    }
  ]
}